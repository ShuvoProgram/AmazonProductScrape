{
  "nbformat": 4,
  "nbformat_minor": 0,
  "metadata": {
    "colab": {
      "name": "AmazonProduct.ipynb",
      "provenance": [],
      "authorship_tag": "ABX9TyN5e5gaYytnHIYpj3Xd+c+x",
      "include_colab_link": true
    },
    "kernelspec": {
      "name": "python3",
      "display_name": "Python 3"
    },
    "language_info": {
      "name": "python"
    }
  },
  "cells": [
    {
      "cell_type": "markdown",
      "metadata": {
        "id": "view-in-github",
        "colab_type": "text"
      },
      "source": [
        "<a href=\"https://colab.research.google.com/github/ShuvoProgram/AmazonProductScrape/blob/main/AmazonProduct.ipynb\" target=\"_parent\"><img src=\"https://colab.research.google.com/assets/colab-badge.svg\" alt=\"Open In Colab\"/></a>"
      ]
    },
    {
      "cell_type": "code",
      "source": [
        "pip install pandas"
      ],
      "metadata": {
        "colab": {
          "base_uri": "https://localhost:8080/"
        },
        "id": "SWJuPKxs4MAX",
        "outputId": "103445f6-7678-434d-f883-2b5df84e64c3"
      },
      "execution_count": 2,
      "outputs": [
        {
          "output_type": "stream",
          "name": "stdout",
          "text": [
            "Requirement already satisfied: pandas in /usr/local/lib/python3.7/dist-packages (1.3.5)\n",
            "Requirement already satisfied: numpy>=1.17.3 in /usr/local/lib/python3.7/dist-packages (from pandas) (1.21.5)\n",
            "Requirement already satisfied: pytz>=2017.3 in /usr/local/lib/python3.7/dist-packages (from pandas) (2018.9)\n",
            "Requirement already satisfied: python-dateutil>=2.7.3 in /usr/local/lib/python3.7/dist-packages (from pandas) (2.8.2)\n",
            "Requirement already satisfied: six>=1.5 in /usr/local/lib/python3.7/dist-packages (from python-dateutil>=2.7.3->pandas) (1.15.0)\n"
          ]
        }
      ]
    },
    {
      "cell_type": "code",
      "source": [
        "pip install bs4"
      ],
      "metadata": {
        "colab": {
          "base_uri": "https://localhost:8080/"
        },
        "id": "lPPj1iiSDSe7",
        "outputId": "2924ec3e-458f-43b9-b851-ae95535d6495"
      },
      "execution_count": 3,
      "outputs": [
        {
          "output_type": "stream",
          "name": "stdout",
          "text": [
            "Requirement already satisfied: bs4 in /usr/local/lib/python3.7/dist-packages (0.0.1)\n",
            "Requirement already satisfied: beautifulsoup4 in /usr/local/lib/python3.7/dist-packages (from bs4) (4.6.3)\n"
          ]
        }
      ]
    },
    {
      "cell_type": "code",
      "source": [
        "from bs4 import BeautifulSoup\n",
        "import requests\n",
        "import pandas as pd"
      ],
      "metadata": {
        "id": "Rrht76JsDA9f"
      },
      "execution_count": 4,
      "outputs": []
    },
    {
      "cell_type": "code",
      "source": [
        "url = 'https://www.ebay.com/sch/i.html?_from=R40&_trksid=p2380057.m570.l1313&_nkw=mobile&_sacat=0'"
      ],
      "metadata": {
        "id": "VhWMIF_FEFk9"
      },
      "execution_count": 5,
      "outputs": []
    },
    {
      "cell_type": "markdown",
      "source": [
        "**Create a dictionary**"
      ],
      "metadata": {
        "id": "g1RNEYpO3toJ"
      }
    },
    {
      "cell_type": "code",
      "source": [
        "d = {'key' : 'value'}\n",
        "print(d)"
      ],
      "metadata": {
        "colab": {
          "base_uri": "https://localhost:8080/"
        },
        "id": "-IZzzD7X3XRI",
        "outputId": "97a8ff23-c16b-4f55-e4aa-f27ef211eb3e"
      },
      "execution_count": 6,
      "outputs": [
        {
          "output_type": "stream",
          "name": "stdout",
          "text": [
            "{'key': 'value'}\n"
          ]
        }
      ]
    },
    {
      "cell_type": "markdown",
      "source": [
        "**Update the dictionary**"
      ],
      "metadata": {
        "id": "1s8vKSoX36wA"
      }
    },
    {
      "cell_type": "code",
      "source": [
        "d['new key'] = 'new value'\n",
        "print(d)"
      ],
      "metadata": {
        "colab": {
          "base_uri": "https://localhost:8080/"
        },
        "id": "vbsAWTOL3hMg",
        "outputId": "0c5d069e-3fb8-4d99-b8ad-5eae6a5d9c2f"
      },
      "execution_count": 7,
      "outputs": [
        {
          "output_type": "stream",
          "name": "stdout",
          "text": [
            "{'key': 'value', 'new key': 'new value'}\n"
          ]
        }
      ]
    },
    {
      "cell_type": "code",
      "source": [
        "value_data = {}\n",
        "page_no = 0\n",
        "\n",
        "while True:\n",
        "  data = requests.get(url)\n",
        "  soup = BeautifulSoup(data.content, 'html.parser')\n",
        "  product = soup.find_all('li', {'class': 's-item__pl-on-bottom'})\n",
        "\n",
        "  for products in product:\n",
        "    title = products.find('h3', {'class': 's-item__title'}).text\n",
        "    price = soup.find('span', {'class': 's-item__price'}).text\n",
        "    img = products.find('img', {'class': 's-item__image-img'})\n",
        "    # imgs = img.get('src') if link else 'N/A'\n",
        "    link = products.find('a', {'class': 's-item__link'})\n",
        "    links = link.get('href') if link else 'N/A'\n",
        "\n",
        "    details = requests.get(links)\n",
        "    details_data = details.text\n",
        "    details_soup = BeautifulSoup(details_data, 'html.parser')\n",
        "    # description = details_soup.find('div', {'class': 'tab-content-m'})\n",
        "    eBay_item_number = details_soup.find('div', {'id': 'descItemNumber'})\n",
        "    eBay_item_number_tag = eBay_item_number.text if eBay_item_number else 'N/A'\n",
        "\n",
        "    page_no+=1\n",
        "    value_data[page_no] = [title, price, img, links, eBay_item_number_tag]\n",
        "\n",
        "    # print('product_title: ', title, '\\nproduct_price: ', price, '\\nproduct_image: ', imgs, '\\nlink: ', link, '\\neBay_item_number: ', eBay_item_number)\n",
        "\n",
        "url_tag = soup.find('a', {'class': 'pagination__next icon-link'})\n",
        "if url_tag.get('href'):\n",
        "  url = 'https://www.ebay.com/sch/i.html?_from=R40&_trksid=p2380057.m570.l1313&_nkw=mobile&_sacat=0' + url_tag.get('href')\n",
        "  print(url)\n",
        "else:\n",
        "  break\n",
        "print('Total Product: ', page_no)\n",
        "\n",
        "value_data_df = pd.DataFrame.from_dict(value_data, orient= 'index', columns= ['product_title', 'product_price', 'product_image', 'link', 'eBay_item_number'])\n",
        "\n",
        "value_data_df.head()\n",
        "\n",
        "value_data_df.to_csv('mobile.csv')\n"
      ],
      "metadata": {
        "id": "8IR8pAm1NkK4"
      },
      "execution_count": null,
      "outputs": []
    }
  ]
}